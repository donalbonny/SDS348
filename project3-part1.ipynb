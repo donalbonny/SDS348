{
 "cells": [
  {
   "cell_type": "markdown",
   "metadata": {},
   "source": [
    "# Project 3, Part I"
   ]
  },
  {
   "cell_type": "markdown",
   "metadata": {},
   "source": [
    "*Enter your name and EID here*\n",
    "\n",
    "Vinh Pham. EID: vp6445\n",
    "\n",
    "**This Project is due on May 3rd, 2018 at 7:00pm.**\n",
    "\n",
    "The complete submission will consist of four parts:\n",
    "\n",
    "1. Jupyter Notebook (.ipynb) file\n",
    "2. Jupyter Notebook converted to pdf\n",
    "3. R Markdown (.Rmd) file\n",
    "4. R Markdown converted to pdf\n",
    "\n",
    "Before submitting the Jupyter notebook part, please re-run all cells by clicking \"Kernel\" and selecting \"Restart & Run All.\"\n"
   ]
  },
  {
   "cell_type": "markdown",
   "metadata": {},
   "source": [
    "## Background and motivation\n",
    "\n",
    "*Please write 1 paragraph providing background and motivation for your question. (4-6 sentences)*\n",
    "\n",
    "TP53 is the most frequently mutated gene in human cancer. Therefore, understanding biochemical properties of p53 plays an important role in cancer prevention. p53 is found not only in human but also in vetebrates including two other members, p63 and p73. Some previous studies have shown that even though p53 families are similar in sequence and gene structure, p53 in different organisms differ in domain organization. Furthermore, animals can live without p53. The previous study has demonstrated that different p53 isoforms in different organisms can regulate cell-fate outcome by regulating transcriptional activity in promoter. Therefore, it is interesting to study the difference of this protein family between organisms.  \n"
   ]
  },
  {
   "cell_type": "markdown",
   "metadata": {},
   "source": [
    "## Question\n",
    "\n",
    "*Please provide your overarching, **conceptual** question here.*\n",
    "\n",
    "\n",
    "What is the difference between p53 in different organisms ( including mammals and non-mammals)?"
   ]
  },
  {
   "cell_type": "markdown",
   "metadata": {},
   "source": [
    "## Introduction\n",
    "\n",
    "*Please write 1 paragraph explaining the data source and variables you will use to answer the question. (4-8 sentences)*\n",
    "\n",
    "Use an Entrez esearch query of the protein database, I am searching for the “tp53” term in the gene names in human and ortholog genes from different organisms. To make that the search results more relevant, I also look for the terms tp53 [gene] isoform without “partial” word in any field. Then all the records in the list of identifiers will be downloaded using efetch and save all of the records to the new file for the database. \n",
    "\n",
    "The variables that I am going to use including: \n",
    "- aa length \n",
    "- Organisms\n",
    "- Different isoforms \n",
    "- Mammal or non-mammal "
   ]
  },
  {
   "cell_type": "markdown",
   "metadata": {},
   "source": [
    "## Data acquisition code"
   ]
  },
  {
   "cell_type": "code",
   "execution_count": 1,
   "metadata": {},
   "outputs": [
    {
     "name": "stdout",
     "output_type": "stream",
     "text": [
      "['269849759', '1038986278', '1038986241', '425876787', '18859503', '187960040', '148747262', '767985195', '767985192', '1367198993', '332847216', '1343924746', '1338767961', '1338767959', '1338767957', '1338767955', '1338767953', '1335178244', '1335178241', '1335178239', '558187291', '1333559341', '1331436798', '759116228', '759116225', '1328784642', '731501494', '1316049092', '1316049090', '1297738750', '1297738747', '1248982589', '1248982587', '1248982585', '1248982583', '1211435822', '1211435820', '1211435818', '1211435816', '528478787', '528478785', '528478781', '880870715', '1195678809', '1195678807', '1195511075', '1195511073', '1195511071', '1187537869', '1187537867']\n"
     ]
    }
   ],
   "source": [
    "from Bio import Entrez, SeqIO\n",
    "Entrez.email = \"phamngocvinh@utexas.edu\" \n",
    "\n",
    "handle = Entrez.esearch(db=\"protein\",  # database to search\n",
    "                        term=\"tp53[gene] isoform NOT partial \",  # search term\n",
    "                        retmax=50  # number of results that are returned\n",
    "                        )\n",
    "record = Entrez.read(handle)\n",
    "handle.close()\n",
    "\n",
    "# search returns PubMed IDs (pmids)\n",
    "id_list = record[\"IdList\"]\n",
    "print(id_list)\n"
   ]
  },
  {
   "cell_type": "code",
   "execution_count": 3,
   "metadata": {},
   "outputs": [
    {
     "name": "stderr",
     "output_type": "stream",
     "text": [
      "/Users/vinhpham/anaconda3/lib/python3.6/site-packages/biopython-1.70-py3.6-macosx-10.7-x86_64.egg/Bio/GenBank/__init__.py:1055: BiopythonParserWarning: Dropping bond qualifier in feature location\n",
      "  warnings.warn(\"Dropping bond qualifier in feature location\", BiopythonParserWarning)\n"
     ]
    }
   ],
   "source": [
    "import csv\n",
    "with open('p53.csv', 'w', newline = '') as f:\n",
    "    thewriter = csv.writer(f)\n",
    "    thewriter.writerow(['Locus', 'Defnition','Organism', 'taxonomy', 'aa_length'])\n",
    "    \n",
    "    handle = Entrez.efetch(db=\"protein\", id=id_list, rettype=\"gb\", retmode=\"text\")\n",
    "    for record in SeqIO.parse(handle, \"gb\"):\n",
    "        if len(record.seq) < 500 and len(record.seq) > 300:\n",
    "            thewriter.writerow([record.id, record.description, record.annotations[\"source\"], record.annotations[\"taxonomy\"],len(record.seq)])     \n",
    "    handle.close()"
   ]
  },
  {
   "cell_type": "code",
   "execution_count": null,
   "metadata": {},
   "outputs": [],
   "source": []
  }
 ],
 "metadata": {
  "kernelspec": {
   "display_name": "Python 3",
   "language": "python",
   "name": "python3"
  },
  "language_info": {
   "codemirror_mode": {
    "name": "ipython",
    "version": 3
   },
   "file_extension": ".py",
   "mimetype": "text/x-python",
   "name": "python",
   "nbconvert_exporter": "python",
   "pygments_lexer": "ipython3",
   "version": "3.6.3"
  }
 },
 "nbformat": 4,
 "nbformat_minor": 2
}
